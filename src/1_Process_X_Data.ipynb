{
 "cells": [
  {
   "cell_type": "code",
   "execution_count": 1,
   "id": "bde7c201-8f41-4a8a-8500-52fda879353c",
   "metadata": {},
   "outputs": [],
   "source": [
    "from exec_1_kafka_x_data_consumer import *"
   ]
  },
  {
   "cell_type": "code",
   "execution_count": null,
   "id": "b5b4804c-5664-499e-984a-a896c3466ac0",
   "metadata": {},
   "outputs": [
    {
     "name": "stdout",
     "output_type": "stream",
     "text": [
      "refreshing model\n",
      "Current Model Version 0\n",
      "refreshing model\n",
      "Current Model Version 0\n",
      "refreshing model\n",
      "Current Model Version 0\n",
      "refreshing model\n",
      "Current Model Version 0\n",
      "refreshing model\n",
      "Current Model Version 0\n",
      "100\n",
      "{'x': {'v0': -1.2429062859529172, 'v1': 0.7621416390519066}, 'y_hat': False, 'uuid': 'f738ed0382ef4c82bae8de07aa25d066', 'uid': '407', 'y_real': True}\n",
      "refreshing model\n",
      "Current Model Version 0\n",
      "refreshing model\n",
      "Current Model Version 0\n",
      "refreshing model\n",
      "Current Model Version 0\n",
      "refreshing model\n",
      "Current Model Version 0\n",
      "refreshing model\n",
      "Current Model Version 0\n",
      "200\n",
      "{'x': {'v0': -2.792076262945925, 'v1': 2.5391181832848115}, 'y_hat': False, 'uuid': 'bab2e4d2a1404b949e9471c24ab15e3e', 'uid': '223', 'y_real': False}\n",
      "refreshing model\n",
      "Current Model Version 0\n",
      "refreshing model\n",
      "Current Model Version 0\n",
      "refreshing model\n",
      "Current Model Version 0\n",
      "refreshing model\n",
      "Current Model Version 0\n",
      "refreshing model\n",
      "Current Model Version 0\n",
      "300\n",
      "{'x': {'v0': -1.4754480118826014, 'v1': 0.3328872761905298}, 'y_hat': False, 'uuid': '7d61332653b74955aef80c82838e4c8d', 'uid': '8174', 'y_real': True}\n"
     ]
    }
   ],
   "source": [
    "consume_x_data()"
   ]
  },
  {
   "cell_type": "code",
   "execution_count": null,
   "id": "cbb326ec-8066-4ef1-aa39-36a790873109",
   "metadata": {},
   "outputs": [],
   "source": []
  },
  {
   "cell_type": "code",
   "execution_count": null,
   "id": "f5a65492-2fc0-431c-8751-a33a4ca22e39",
   "metadata": {},
   "outputs": [],
   "source": []
  },
  {
   "cell_type": "code",
   "execution_count": null,
   "id": "8c103bf1-fd5b-4978-9578-d279141e035b",
   "metadata": {},
   "outputs": [],
   "source": []
  }
 ],
 "metadata": {
  "kernelspec": {
   "display_name": "Python 3",
   "language": "python",
   "name": "python3"
  },
  "language_info": {
   "codemirror_mode": {
    "name": "ipython",
    "version": 3
   },
   "file_extension": ".py",
   "mimetype": "text/x-python",
   "name": "python",
   "nbconvert_exporter": "python",
   "pygments_lexer": "ipython3",
   "version": "3.8.8"
  }
 },
 "nbformat": 4,
 "nbformat_minor": 5
}
