{
 "cells": [
  {
   "cell_type": "code",
   "execution_count": 1,
   "id": "bde7c201-8f41-4a8a-8500-52fda879353c",
   "metadata": {},
   "outputs": [],
   "source": [
    "from exec_0_kafka_raw_data_publisher import *"
   ]
  },
  {
   "cell_type": "code",
   "execution_count": 2,
   "id": "b5b4804c-5664-499e-984a-a896c3466ac0",
   "metadata": {},
   "outputs": [],
   "source": [
    "initialize()"
   ]
  },
  {
   "cell_type": "code",
   "execution_count": null,
   "id": "fa1d00ef-e0be-4bd8-ac50-0b9d70164fb2",
   "metadata": {},
   "outputs": [
    {
     "name": "stdout",
     "output_type": "stream",
     "text": [
      "Accuracy: 90.30%\n",
      "Recall: 0.858586\n",
      "Initial Model Created\n"
     ]
    }
   ],
   "source": [
    "publish_data()"
   ]
  },
  {
   "cell_type": "code",
   "execution_count": null,
   "id": "cbb326ec-8066-4ef1-aa39-36a790873109",
   "metadata": {},
   "outputs": [],
   "source": []
  }
 ],
 "metadata": {
  "kernelspec": {
   "display_name": "Python 3",
   "language": "python",
   "name": "python3"
  },
  "language_info": {
   "codemirror_mode": {
    "name": "ipython",
    "version": 3
   },
   "file_extension": ".py",
   "mimetype": "text/x-python",
   "name": "python",
   "nbconvert_exporter": "python",
   "pygments_lexer": "ipython3",
   "version": "3.8.8"
  }
 },
 "nbformat": 4,
 "nbformat_minor": 5
}
