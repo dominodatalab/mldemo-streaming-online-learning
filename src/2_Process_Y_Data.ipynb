{
 "cells": [
  {
   "cell_type": "code",
   "execution_count": 1,
   "id": "bde7c201-8f41-4a8a-8500-52fda879353c",
   "metadata": {},
   "outputs": [],
   "source": [
    "from exec_2_kafka_y_data_consumer import *"
   ]
  },
  {
   "cell_type": "code",
   "execution_count": null,
   "id": "b5b4804c-5664-499e-984a-a896c3466ac0",
   "metadata": {},
   "outputs": [],
   "source": [
    "consume_y_data()"
   ]
  },
  {
   "cell_type": "code",
   "execution_count": null,
   "id": "cbb326ec-8066-4ef1-aa39-36a790873109",
   "metadata": {},
   "outputs": [],
   "source": []
  },
  {
   "cell_type": "code",
   "execution_count": null,
   "id": "749c4c15-bf2e-4753-830a-51eaf2ea8c81",
   "metadata": {},
   "outputs": [],
   "source": []
  }
 ],
 "metadata": {
  "kernelspec": {
   "display_name": "Python 3",
   "language": "python",
   "name": "python3"
  },
  "language_info": {
   "codemirror_mode": {
    "name": "ipython",
    "version": 3
   },
   "file_extension": ".py",
   "mimetype": "text/x-python",
   "name": "python",
   "nbconvert_exporter": "python",
   "pygments_lexer": "ipython3",
   "version": "3.8.8"
  }
 },
 "nbformat": 4,
 "nbformat_minor": 5
}
